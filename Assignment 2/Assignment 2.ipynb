{
 "cells": [
  {
   "cell_type": "code",
   "execution_count": 2,
   "metadata": {},
   "outputs": [
    {
     "name": "stdout",
     "output_type": "stream",
     "text": [
      "Maximum Value is 9\n",
      "Maximum occuring value in the list is ['Lakshmiii', 'Narayanan']\n"
     ]
    }
   ],
   "source": [
    "#Implement a function longestWord() that takes a list of words and returns the longest one.\n",
    "\n",
    "def longestWord(*args):\n",
    "    newlist=[]\n",
    "    newdict={}\n",
    "    newlist1=(list(args[0]))\n",
    "    for i in newlist1:\n",
    "        newdict[i]=len(i)\n",
    "        newlist.append(len(i))\n",
    "    maxval=max(newlist)\n",
    "    print('Maximum Value is {0}'.format(maxval))\n",
    "    maxlist=[]\n",
    "    for j,k in newdict.items():\n",
    "        if k == maxval:\n",
    "            maxlist.append(j)\n",
    "    return maxlist\n",
    "    \n",
    "    \n",
    "    \n",
    "lista=['Lakshmiii','Narayanan','Gaansaan','Test','Engineer']\n",
    "print('Maximum occuring value in the list is {0}'.format(longestWord(lista)))"
   ]
  },
  {
   "cell_type": "code",
   "execution_count": 8,
   "metadata": {},
   "outputs": [
    {
     "name": "stdin",
     "output_type": "stream",
     "text": [
      "Enter the number 5\n"
     ]
    },
    {
     "name": "stdout",
     "output_type": "stream",
     "text": [
      "Words that are greater than the number passed are ['Harish', 'Testss', 'Python']\n"
     ]
    }
   ],
   "source": [
    "# Write a function filter_long_words() that takes a list of words and an integer n and returns the list \n",
    "# of words that are longer than n\n",
    "\n",
    "\n",
    "def filter_long_words(num,*args):    \n",
    "    newlist1=(list(args[0]))\n",
    "    newlist=[]\n",
    "    for i in newlist1:\n",
    "        if(len(i)>num):\n",
    "            newlist.append(i)\n",
    "    return newlist\n",
    "\n",
    "lista=['Adam','Harish','Siva','Testss','Python']\n",
    "x=input('Enter the number')\n",
    "print('Words that are greater than the number passed are {0}'.format(filter_long_words(int(x),lista)))\n",
    "\n",
    "        \n",
    "    "
   ]
  },
  {
   "cell_type": "code",
   "execution_count": 9,
   "metadata": {},
   "outputs": [
    {
     "name": "stdout",
     "output_type": "stream",
     "text": [
      "The numbers against the corresponding elements of the list are [4, 6, 4, 4, 6]\n"
     ]
    }
   ],
   "source": [
    "# Write a Python program using function concept that maps list of words into a list of integers\n",
    "# representing the lengths of the corresponding words.\n",
    "def lengthofvalues(*args):\n",
    "    newlist1=(list(args[0]))\n",
    "    newlist=[]\n",
    "    for i in newlist1:\n",
    "        newlist.append(len(i))\n",
    "    return newlist\n",
    "    \n",
    "\n",
    "\n",
    "lista=['Adam','Harish','Siva','Test','Python']\n",
    "print('The numbers against the corresponding elements of the list are {0}'.format(lengthofvalues(lista)))"
   ]
  },
  {
   "cell_type": "code",
   "execution_count": 10,
   "metadata": {},
   "outputs": [
    {
     "name": "stdin",
     "output_type": "stream",
     "text": [
      "Enter the character g\n"
     ]
    },
    {
     "name": "stdout",
     "output_type": "stream",
     "text": [
      "Check for the entered character as a vowel is False\n"
     ]
    }
   ],
   "source": [
    "# Write a Python function which takes a character (i.e. a string of length 1) and returns True if it is\n",
    "# a vowel, False otherwise.\n",
    "\n",
    "def checkvowel(stri):\n",
    "    boolval=False\n",
    "    vowels='aeiou'    \n",
    "    if stri in vowels:\n",
    "        boolval=True    \n",
    "    return boolval\n",
    "\n",
    "x=input('Enter the character')\n",
    "print('Check for the entered character as a vowel is {0}'.format(checkvowel(x)))      \n"
   ]
  },
  {
   "cell_type": "code",
   "execution_count": 12,
   "metadata": {},
   "outputs": [
    {
     "name": "stdin",
     "output_type": "stream",
     "text": [
      "Enter side a of triangle 5\n",
      "Enter side b of triangle 6\n",
      "Enter side c of triangle 2\n"
     ]
    },
    {
     "name": "stdout",
     "output_type": "stream",
     "text": [
      "Area of Triangle is 4.683748498798798\n"
     ]
    }
   ],
   "source": [
    "# Write a Python Program(with class concepts) to find the area of the triangle using the below formula. area = (s*(s-a)*(s-b)*(s-c)) ** 0.5 Function to take the length of the sides of triangle from user should be defined in the parent class and function to calculate the area should be defined in subclass.\n",
    "\n",
    "\n",
    "class Parent():\n",
    "  #Function to get the sides of triangle\n",
    "  def sides():\n",
    "    x=input('Enter side a of triangle')\n",
    "    x1=input('Enter side b of triangle')\n",
    "    x2=input('Enter side c of triangle')\n",
    "    return [x,x1,x2]\n",
    "  \n",
    "    \n",
    "\n",
    "\n",
    "class subclass(Parent):\n",
    "  def area(self):\n",
    "    lista=Parent.sides()\n",
    "    x=int(lista[0])\n",
    "    x1=int(lista[1])\n",
    "    x2=int(lista[2])\n",
    "    s=(x1+x+x2)/2\n",
    "    area=(s*(s-x)*(s-x1)*(s-x2)) ** 0.5\n",
    "    return area\n",
    "\n",
    "\n",
    "a=subclass()\n",
    "print('Area of Triangle is {0}'.format(a.area()))"
   ]
  },
  {
   "cell_type": "code",
   "execution_count": 3,
   "metadata": {},
   "outputs": [
    {
     "name": "stdout",
     "output_type": "stream",
     "text": [
      "['x', 'y', 'z', 'xx', 'yy', 'zz', 'xxx', 'yyy', 'zzz', 'xxxx', 'yyyy', 'zzzz']\n",
      "['x', 'xx', 'xxx', 'xxxx', 'y', 'yy', 'yyy', 'yyyy', 'z', 'zz', 'zzz', 'zzzz']\n",
      "[(1, 1), (1, 2), (1, 3), (2, 1), (2, 2), (2, 3), (3, 1), (3, 2), (3, 3)]\n",
      "[[2, 3, 4, 5], [3, 4, 5, 6], [4, 5, 6, 7], [5, 6, 7, 8]]\n",
      "[[2], [3], [4], [5]]\n"
     ]
    }
   ],
   "source": [
    "#Implement List comprehensions to produce the following lists.\n",
    "#Write List comprehensions to produce the following Lists\n",
    "\n",
    "\n",
    "#'A', 'C', 'A', 'D', 'G', 'I', ’L’, ‘ D’]\n",
    "#['x', 'xx', 'xxx', 'xxxx', 'y', 'yy', 'yyy', 'yyyy', 'z', 'zz', 'zzz', 'zzzz']\n",
    "#['x', 'y', 'z', 'xx', 'yy', 'zz', 'xx', 'yy', 'zz', 'xxxx', 'yyyy', 'zzzz']\n",
    "#[[2], [3], [4], [3], [4], [5], [4], [5], [6]]\n",
    "#[[2, 3, 4, 5], [3, 4, 5, 6], [4, 5, 6, 7], [5, 6, 7, 8]]\n",
    "#[(1, 1), (2, 1), (3, 1), (1, 2), (2, 2), (3, 2), (1, 3), (2, 3), (3, 3)]\n",
    "\n",
    "lista=[1,2,3,4]\n",
    "listb=['x','y','z']\n",
    "listc=[2,3,4,5]\n",
    "newlist=[entry*tag for tag in lista for entry in listb]\n",
    "print(newlist)\n",
    "newlist2=[entry*tag for tag in listb for entry in lista]\n",
    "print(newlist2)\n",
    "newlist3=[(x,y) for x in range(1,4) for y in range(1,4)]\n",
    "print(newlist3)\n",
    "list3 = [[i + j for j in [0, 1, 2, 3]] for i in range(2, 6)]\n",
    "print(list3)\n",
    "list = [[x+y] for x in range(2,5) for y in range(3)]"
   ]
  }
 ],
 "metadata": {
  "kernelspec": {
   "display_name": "Python 3",
   "language": "python",
   "name": "python3"
  },
  "language_info": {
   "codemirror_mode": {
    "name": "ipython",
    "version": 3
   },
   "file_extension": ".py",
   "mimetype": "text/x-python",
   "name": "python",
   "nbconvert_exporter": "python",
   "pygments_lexer": "ipython3",
   "version": "3.7.3"
  }
 },
 "nbformat": 4,
 "nbformat_minor": 4
}
